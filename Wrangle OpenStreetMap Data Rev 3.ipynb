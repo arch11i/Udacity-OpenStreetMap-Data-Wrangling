{
 "cells": [
  {
   "cell_type": "markdown",
   "metadata": {},
   "source": [
    "## OpenStreetMap Data Case Study"
   ]
  },
  {
   "cell_type": "markdown",
   "metadata": {},
   "source": [
    "### Map Area"
   ]
  },
  {
   "cell_type": "raw",
   "metadata": {},
   "source": [
    "Map: Chicago, IL, USA\n",
    "\n",
    "Map Selection dimensions: minlat=\"41.8307000\" minlon=\"-87.7142000\" maxlat=\"41.9590000\" maxlon=\"-87.5926000\"\n",
    "\n",
    "The data included in this document is from www.openstreetmap.org. The data is made available under ODbL.\n",
    "\n",
    "Interpreter: conda:base (Python 3.7.7)"
   ]
  },
  {
   "cell_type": "markdown",
   "metadata": {},
   "source": [
    "The map selection is based on Chicago, the largest city in Illinois. OSM Data will be downloaded in XML format, with data quality being audited, locating potentially problematic data, performing data cleanup and exporting the cleaned up data to a database. "
   ]
  },
  {
   "cell_type": "markdown",
   "metadata": {},
   "source": [
    "### Map data Autiting"
   ]
  },
  {
   "cell_type": "markdown",
   "metadata": {},
   "source": [
    "Included libraries"
   ]
  },
  {
   "cell_type": "code",
   "execution_count": 1,
   "metadata": {},
   "outputs": [],
   "source": [
    "import xml.etree.cElementTree as ET\n",
    "import pprint\n",
    "import re\n",
    "import csv\n",
    "import codecs\n",
    "import cerberus\n",
    "import schema\n",
    "import sqlite3\n",
    "import pandas as pd\n",
    "from collections import defaultdict\n",
    "from mapparser import *\n",
    "from audit import *\n",
    "from tags import *"
   ]
  },
  {
   "cell_type": "markdown",
   "metadata": {},
   "source": [
    "Importing the OSM file for investigation."
   ]
  },
  {
   "cell_type": "code",
   "execution_count": 2,
   "metadata": {},
   "outputs": [],
   "source": [
    "osm_file = r'Chicago.xml'"
   ]
  },
  {
   "cell_type": "markdown",
   "metadata": {},
   "source": [
    "In this task I will take a quick look at the OSM data to figure out what tags it contains and its counts to get a general idea about the data."
   ]
  },
  {
   "cell_type": "code",
   "execution_count": 3,
   "metadata": {
    "scrolled": true
   },
   "outputs": [
    {
     "name": "stdout",
     "output_type": "stream",
     "text": [
      "defaultdict(<class 'int'>,\n",
      "            {'bounds': 1,\n",
      "             'member': 94865,\n",
      "             'meta': 1,\n",
      "             'nd': 1330459,\n",
      "             'node': 1083005,\n",
      "             'note': 1,\n",
      "             'osm': 1,\n",
      "             'relation': 2483,\n",
      "             'tag': 1061586,\n",
      "             'way': 179501})\n"
     ]
    }
   ],
   "source": [
    "tags = count_tags(osm_file)\n",
    "pprint.pprint(tags)"
   ]
  },
  {
   "cell_type": "markdown",
   "metadata": {},
   "source": [
    "I will look at \"k\" values for each tag to determine if there any potential problems by using 3 regular expression:\n",
    "    \"lower\", for tags that contain only lowercase letters and are valid,\n",
    "    \"lower_colon\", for otherwise valid tags with a colon in their names,\n",
    "    \"problemchars\", for tags with problematic characters\n",
    "and \"other\" for other tags that do not fall into the other three categories."
   ]
  },
  {
   "cell_type": "code",
   "execution_count": 4,
   "metadata": {},
   "outputs": [
    {
     "name": "stdout",
     "output_type": "stream",
     "text": [
      "{'lower': 346602, 'lower_colon': 441379, 'other': 273605, 'problemchars': 0}\n"
     ]
    }
   ],
   "source": [
    "pprint.pprint(process_map(osm_file))"
   ]
  },
  {
   "cell_type": "markdown",
   "metadata": {},
   "source": [
    "#### Problems encountered in your map"
   ]
  },
  {
   "cell_type": "markdown",
   "metadata": {},
   "source": [
    "##### Auditing Street Names"
   ]
  },
  {
   "cell_type": "markdown",
   "metadata": {},
   "source": [
    "While looking at a sample of the data, I've noticed that some street names and orientation seems to be over-abbreviated. I would prefer to see data unabbreviated for clarity."
   ]
  },
  {
   "cell_type": "code",
   "execution_count": 5,
   "metadata": {},
   "outputs": [],
   "source": [
    "street_types = audit(osm_file)[0]"
   ]
  },
  {
   "cell_type": "markdown",
   "metadata": {},
   "source": [
    "Based on the findings that several street names/direction is abbreviated, the following abbreviated to unabbreviated map will be used."
   ]
  },
  {
   "cell_type": "markdown",
   "metadata": {},
   "source": [
    "Which results in the following conversion"
   ]
  },
  {
   "cell_type": "code",
   "execution_count": 6,
   "metadata": {
    "scrolled": true
   },
   "outputs": [
    {
     "name": "stdout",
     "output_type": "stream",
     "text": [
      "North Broadway => North Broadway\n",
      "Lincoln Park West => Lincoln Park West\n",
      "North Lincoln Park West => North Lincoln Park West\n",
      "North Lake Shore Drive West => North Lake Shore Drive West\n",
      "South Riverside Plaza => South Riverside Plaza\n",
      "W Merchandise Mart Plaza => West Merchandise Mart Plaza\n",
      "Merchandise Mart Plaza => Merchandise Mart Plaza\n",
      "North Riverside Plaza => North Riverside Plaza\n",
      "West Wolf Point Plaza => West Wolf Point Plaza\n",
      "East Riverwalk South => East Riverwalk South\n",
      "W. Riverwalk South => West Riverwalk South\n",
      "West Fulton Market => West Fulton Market\n",
      "W Irving Park Rd => West Irving Park Road\n",
      "W. Madison St. => West Madison Street\n",
      "North Michigan Ave => North Michigan Avenue\n",
      "West Chicago Ave => West Chicago Avenue\n",
      "W Jackson Blvd => West Jackson Boulevard\n",
      "Chicago Riverwalk => Chicago Riverwalk\n",
      "North Sangamon => North Sangamon\n",
      "West Churchill Row => West Churchill Row\n",
      "North River Walk => North River Walk\n",
      "North Breakwater Access => North Breakwater Access\n",
      "North May Streets => North May Street\n"
     ]
    }
   ],
   "source": [
    "    for street_type, ways in street_types.items():\n",
    "       for name in ways:\n",
    "        better_name = update_name(name, mapping)\n",
    "        print (name, \"=>\", better_name  )"
   ]
  },
  {
   "cell_type": "markdown",
   "metadata": {},
   "source": [
    "##### Auditing Zip Codes"
   ]
  },
  {
   "cell_type": "code",
   "execution_count": 7,
   "metadata": {},
   "outputs": [],
   "source": [
    "postal_code_types = audit(osm_file)[1]"
   ]
  },
  {
   "cell_type": "code",
   "execution_count": 8,
   "metadata": {},
   "outputs": [
    {
     "name": "stdout",
     "output_type": "stream",
     "text": [
      "{'60064': {'60064'},\n",
      " '60067': {'60067'},\n",
      " '60622-4580': {'60622-4580'},\n",
      " '606476': {'606476'}}\n"
     ]
    }
   ],
   "source": [
    "pprint.pprint(dict(postal_code_types))"
   ]
  },
  {
   "cell_type": "markdown",
   "metadata": {},
   "source": [
    "Suprisingly only few issues encounted. Let's keep date consisatant with 5 digit zip code for standardization."
   ]
  },
  {
   "cell_type": "markdown",
   "metadata": {},
   "source": [
    "Zip Code in error: 60064\n",
    "    2110 North Seminary Avenue\n",
    "Correct zip code: 60614"
   ]
  },
  {
   "cell_type": "markdown",
   "metadata": {},
   "source": [
    "Zip Code in error: 60067\n",
    "    108 North Green Street\n",
    "Correct zip code: 60607"
   ]
  },
  {
   "cell_type": "markdown",
   "metadata": {},
   "source": [
    "Zip Code in error: 60622-4580 (not really an error, it has suffix in different zip code scheme. But let's standardize it to 5 digit scheme)\n",
    "    2657-2659 West Walton Street\n",
    "Correct zip code: 60622"
   ]
  },
  {
   "cell_type": "markdown",
   "metadata": {},
   "source": [
    "Zip Code in error: 606476\n",
    "    1750 North Milwaukee Avenue (Which is a bar. I bet whoever entered the zip code is a frequent there. (just kidding))\n",
    "Correct zip code: 60647"
   ]
  },
  {
   "cell_type": "markdown",
   "metadata": {},
   "source": [
    "After the initial audit above, the data will be cleaned up by using functions in audit.py by converting over-abbreviated names into non-abbreviated ones & correcting zip code to adjusted one. OSM XML file will be parsed into tabular .csv format to prepare data to be inserted into SQL database."
   ]
  },
  {
   "cell_type": "markdown",
   "metadata": {},
   "source": [
    "Note: modified UnicodeDictWriter for Unicode/UTF-8 handing and Python 3 compatability."
   ]
  },
  {
   "cell_type": "markdown",
   "metadata": {},
   "source": [
    "Note: modified process_map function for Unicode/UTF-8 handing and Python 3 compatability."
   ]
  },
  {
   "cell_type": "markdown",
   "metadata": {},
   "source": [
    "#### Data Overview (SQL):"
   ]
  },
  {
   "cell_type": "raw",
   "metadata": {},
   "source": [
    "File sizes:\n",
    "\n",
    "Chicago.xml: 278,729 KB\n",
    "OpenStreetMapChicagoRev2b.db: 158,672 KB\n",
    "nodes.csv: 95,252 KB\n",
    "nodes_tags.csv: 3,954 KB\n",
    "ways.csv: 11,536 KB\n",
    "ways_nodes.csv: 31,310 KB\n",
    "ways_tags.csv: 36,858 KB"
   ]
  },
  {
   "cell_type": "code",
   "execution_count": 9,
   "metadata": {},
   "outputs": [],
   "source": [
    "connection = sqlite3.connect(r'OpenStreetMapChicagoRev2b.db')"
   ]
  },
  {
   "cell_type": "markdown",
   "metadata": {},
   "source": [
    "Number of Nodes"
   ]
  },
  {
   "cell_type": "code",
   "execution_count": 10,
   "metadata": {},
   "outputs": [
    {
     "data": {
      "text/html": [
       "<div>\n",
       "<style scoped>\n",
       "    .dataframe tbody tr th:only-of-type {\n",
       "        vertical-align: middle;\n",
       "    }\n",
       "\n",
       "    .dataframe tbody tr th {\n",
       "        vertical-align: top;\n",
       "    }\n",
       "\n",
       "    .dataframe thead th {\n",
       "        text-align: right;\n",
       "    }\n",
       "</style>\n",
       "<table border=\"1\" class=\"dataframe\">\n",
       "  <thead>\n",
       "    <tr style=\"text-align: right;\">\n",
       "      <th></th>\n",
       "      <th>COUNT(*)</th>\n",
       "    </tr>\n",
       "  </thead>\n",
       "  <tbody>\n",
       "    <tr>\n",
       "      <th>0</th>\n",
       "      <td>1083005</td>\n",
       "    </tr>\n",
       "  </tbody>\n",
       "</table>\n",
       "</div>"
      ],
      "text/plain": [
       "   COUNT(*)\n",
       "0   1083005"
      ]
     },
     "execution_count": 10,
     "metadata": {},
     "output_type": "execute_result"
    }
   ],
   "source": [
    "sqlquery = \"\"\"\n",
    "SELECT COUNT(*) FROM nodes;\n",
    "\"\"\"\n",
    "df = pd.read_sql_query(sqlquery, connection)\n",
    "df"
   ]
  },
  {
   "cell_type": "markdown",
   "metadata": {},
   "source": [
    "Number of Ways"
   ]
  },
  {
   "cell_type": "code",
   "execution_count": 11,
   "metadata": {},
   "outputs": [
    {
     "data": {
      "text/html": [
       "<div>\n",
       "<style scoped>\n",
       "    .dataframe tbody tr th:only-of-type {\n",
       "        vertical-align: middle;\n",
       "    }\n",
       "\n",
       "    .dataframe tbody tr th {\n",
       "        vertical-align: top;\n",
       "    }\n",
       "\n",
       "    .dataframe thead th {\n",
       "        text-align: right;\n",
       "    }\n",
       "</style>\n",
       "<table border=\"1\" class=\"dataframe\">\n",
       "  <thead>\n",
       "    <tr style=\"text-align: right;\">\n",
       "      <th></th>\n",
       "      <th>COUNT(*)</th>\n",
       "    </tr>\n",
       "  </thead>\n",
       "  <tbody>\n",
       "    <tr>\n",
       "      <th>0</th>\n",
       "      <td>179501</td>\n",
       "    </tr>\n",
       "  </tbody>\n",
       "</table>\n",
       "</div>"
      ],
      "text/plain": [
       "   COUNT(*)\n",
       "0    179501"
      ]
     },
     "execution_count": 11,
     "metadata": {},
     "output_type": "execute_result"
    }
   ],
   "source": [
    "sqlquery = \"\"\"\n",
    "SELECT COUNT(*) FROM ways;\n",
    "\"\"\"\n",
    "df = pd.read_sql_query(sqlquery, connection)\n",
    "df"
   ]
  },
  {
   "cell_type": "markdown",
   "metadata": {},
   "source": [
    "Number of Unique users"
   ]
  },
  {
   "cell_type": "code",
   "execution_count": 12,
   "metadata": {},
   "outputs": [
    {
     "data": {
      "text/html": [
       "<div>\n",
       "<style scoped>\n",
       "    .dataframe tbody tr th:only-of-type {\n",
       "        vertical-align: middle;\n",
       "    }\n",
       "\n",
       "    .dataframe tbody tr th {\n",
       "        vertical-align: top;\n",
       "    }\n",
       "\n",
       "    .dataframe thead th {\n",
       "        text-align: right;\n",
       "    }\n",
       "</style>\n",
       "<table border=\"1\" class=\"dataframe\">\n",
       "  <thead>\n",
       "    <tr style=\"text-align: right;\">\n",
       "      <th></th>\n",
       "      <th>Number of Unique Users</th>\n",
       "    </tr>\n",
       "  </thead>\n",
       "  <tbody>\n",
       "    <tr>\n",
       "      <th>0</th>\n",
       "      <td>1141</td>\n",
       "    </tr>\n",
       "  </tbody>\n",
       "</table>\n",
       "</div>"
      ],
      "text/plain": [
       "   Number of Unique Users\n",
       "0                    1141"
      ]
     },
     "execution_count": 12,
     "metadata": {},
     "output_type": "execute_result"
    }
   ],
   "source": [
    "sqlquery = \"\"\"\n",
    "SELECT COUNT(DISTINCT(UID))AS \"Number of Unique Users\" \n",
    "FROM (SELECT UID FROM NODES UNION ALL SELECT UID FROM WAYS);\n",
    "\"\"\"\n",
    "df = pd.read_sql_query(sqlquery, connection)\n",
    "df"
   ]
  },
  {
   "cell_type": "markdown",
   "metadata": {},
   "source": [
    "Top 10 Users"
   ]
  },
  {
   "cell_type": "code",
   "execution_count": 13,
   "metadata": {},
   "outputs": [
    {
     "data": {
      "text/html": [
       "<div>\n",
       "<style scoped>\n",
       "    .dataframe tbody tr th:only-of-type {\n",
       "        vertical-align: middle;\n",
       "    }\n",
       "\n",
       "    .dataframe tbody tr th {\n",
       "        vertical-align: top;\n",
       "    }\n",
       "\n",
       "    .dataframe thead th {\n",
       "        text-align: right;\n",
       "    }\n",
       "</style>\n",
       "<table border=\"1\" class=\"dataframe\">\n",
       "  <thead>\n",
       "    <tr style=\"text-align: right;\">\n",
       "      <th></th>\n",
       "      <th>User Name</th>\n",
       "      <th>Updates</th>\n",
       "    </tr>\n",
       "  </thead>\n",
       "  <tbody>\n",
       "    <tr>\n",
       "      <th>0</th>\n",
       "      <td>chicago-buildings</td>\n",
       "      <td>932949</td>\n",
       "    </tr>\n",
       "    <tr>\n",
       "      <th>1</th>\n",
       "      <td>nickvet419</td>\n",
       "      <td>72247</td>\n",
       "    </tr>\n",
       "    <tr>\n",
       "      <th>2</th>\n",
       "      <td>Umbugbene</td>\n",
       "      <td>31755</td>\n",
       "    </tr>\n",
       "    <tr>\n",
       "      <th>3</th>\n",
       "      <td>jimjoe45</td>\n",
       "      <td>24421</td>\n",
       "    </tr>\n",
       "    <tr>\n",
       "      <th>4</th>\n",
       "      <td>Zol87</td>\n",
       "      <td>22492</td>\n",
       "    </tr>\n",
       "    <tr>\n",
       "      <th>5</th>\n",
       "      <td>Chicago Park District GIS</td>\n",
       "      <td>20943</td>\n",
       "    </tr>\n",
       "    <tr>\n",
       "      <th>6</th>\n",
       "      <td>Steven Vance</td>\n",
       "      <td>20286</td>\n",
       "    </tr>\n",
       "    <tr>\n",
       "      <th>7</th>\n",
       "      <td>bbmiller</td>\n",
       "      <td>13004</td>\n",
       "    </tr>\n",
       "    <tr>\n",
       "      <th>8</th>\n",
       "      <td>Rallysta74</td>\n",
       "      <td>12472</td>\n",
       "    </tr>\n",
       "    <tr>\n",
       "      <th>9</th>\n",
       "      <td>NE2</td>\n",
       "      <td>11413</td>\n",
       "    </tr>\n",
       "  </tbody>\n",
       "</table>\n",
       "</div>"
      ],
      "text/plain": [
       "                   User Name  Updates\n",
       "0          chicago-buildings   932949\n",
       "1                 nickvet419    72247\n",
       "2                  Umbugbene    31755\n",
       "3                   jimjoe45    24421\n",
       "4                      Zol87    22492\n",
       "5  Chicago Park District GIS    20943\n",
       "6               Steven Vance    20286\n",
       "7                   bbmiller    13004\n",
       "8                 Rallysta74    12472\n",
       "9                        NE2    11413"
      ]
     },
     "execution_count": 13,
     "metadata": {},
     "output_type": "execute_result"
    }
   ],
   "source": [
    "sqlquery = \"\"\"\n",
    "SELECT E.USER as \"User Name\", COUNT(*) AS \"Updates\"\n",
    "FROM (SELECT USER FROM NODES UNION ALL SELECT USER FROM WAYS) E\n",
    "GROUP BY E.USER\n",
    "ORDER BY 2 DESC\n",
    "LIMIT 10\n",
    "\"\"\"\n",
    "df = pd.read_sql_query(sqlquery, connection)\n",
    "df"
   ]
  },
  {
   "cell_type": "markdown",
   "metadata": {},
   "source": [
    "Top 10 popular amenities"
   ]
  },
  {
   "cell_type": "code",
   "execution_count": 14,
   "metadata": {},
   "outputs": [
    {
     "data": {
      "text/html": [
       "<div>\n",
       "<style scoped>\n",
       "    .dataframe tbody tr th:only-of-type {\n",
       "        vertical-align: middle;\n",
       "    }\n",
       "\n",
       "    .dataframe tbody tr th {\n",
       "        vertical-align: top;\n",
       "    }\n",
       "\n",
       "    .dataframe thead th {\n",
       "        text-align: right;\n",
       "    }\n",
       "</style>\n",
       "<table border=\"1\" class=\"dataframe\">\n",
       "  <thead>\n",
       "    <tr style=\"text-align: right;\">\n",
       "      <th></th>\n",
       "      <th>Amenity Name</th>\n",
       "      <th>Count</th>\n",
       "    </tr>\n",
       "  </thead>\n",
       "  <tbody>\n",
       "    <tr>\n",
       "      <th>0</th>\n",
       "      <td>restaurant</td>\n",
       "      <td>1396</td>\n",
       "    </tr>\n",
       "    <tr>\n",
       "      <th>1</th>\n",
       "      <td>bar</td>\n",
       "      <td>566</td>\n",
       "    </tr>\n",
       "    <tr>\n",
       "      <th>2</th>\n",
       "      <td>cafe</td>\n",
       "      <td>459</td>\n",
       "    </tr>\n",
       "    <tr>\n",
       "      <th>3</th>\n",
       "      <td>bicycle_rental</td>\n",
       "      <td>371</td>\n",
       "    </tr>\n",
       "    <tr>\n",
       "      <th>4</th>\n",
       "      <td>fast_food</td>\n",
       "      <td>317</td>\n",
       "    </tr>\n",
       "    <tr>\n",
       "      <th>5</th>\n",
       "      <td>bench</td>\n",
       "      <td>273</td>\n",
       "    </tr>\n",
       "    <tr>\n",
       "      <th>6</th>\n",
       "      <td>place_of_worship</td>\n",
       "      <td>226</td>\n",
       "    </tr>\n",
       "    <tr>\n",
       "      <th>7</th>\n",
       "      <td>school</td>\n",
       "      <td>152</td>\n",
       "    </tr>\n",
       "    <tr>\n",
       "      <th>8</th>\n",
       "      <td>bank</td>\n",
       "      <td>91</td>\n",
       "    </tr>\n",
       "    <tr>\n",
       "      <th>9</th>\n",
       "      <td>drinking_water</td>\n",
       "      <td>73</td>\n",
       "    </tr>\n",
       "  </tbody>\n",
       "</table>\n",
       "</div>"
      ],
      "text/plain": [
       "       Amenity Name  Count\n",
       "0        restaurant   1396\n",
       "1               bar    566\n",
       "2              cafe    459\n",
       "3    bicycle_rental    371\n",
       "4         fast_food    317\n",
       "5             bench    273\n",
       "6  place_of_worship    226\n",
       "7            school    152\n",
       "8              bank     91\n",
       "9    drinking_water     73"
      ]
     },
     "execution_count": 14,
     "metadata": {},
     "output_type": "execute_result"
    }
   ],
   "source": [
    "sqlquery = \"\"\"\n",
    "SELECT VALUE AS \"Amenity Name\", COUNT(*) AS  \"Count\" \n",
    "FROM NODES_TAGS \n",
    "WHERE UPPER(KEY)=\"AMENITY\"\n",
    "GROUP BY 1\n",
    "ORDER BY 2 DESC\n",
    "LIMIT 10;\n",
    "\"\"\"\n",
    "df = pd.read_sql_query(sqlquery, connection)\n",
    "df"
   ]
  },
  {
   "cell_type": "code",
   "execution_count": 15,
   "metadata": {},
   "outputs": [
    {
     "data": {
      "text/html": [
       "<div>\n",
       "<style scoped>\n",
       "    .dataframe tbody tr th:only-of-type {\n",
       "        vertical-align: middle;\n",
       "    }\n",
       "\n",
       "    .dataframe tbody tr th {\n",
       "        vertical-align: top;\n",
       "    }\n",
       "\n",
       "    .dataframe thead th {\n",
       "        text-align: right;\n",
       "    }\n",
       "</style>\n",
       "<table border=\"1\" class=\"dataframe\">\n",
       "  <thead>\n",
       "    <tr style=\"text-align: right;\">\n",
       "      <th></th>\n",
       "      <th>Cuisine Types</th>\n",
       "      <th>Count</th>\n",
       "    </tr>\n",
       "  </thead>\n",
       "  <tbody>\n",
       "    <tr>\n",
       "      <th>0</th>\n",
       "      <td>american</td>\n",
       "      <td>102</td>\n",
       "    </tr>\n",
       "    <tr>\n",
       "      <th>1</th>\n",
       "      <td>mexican</td>\n",
       "      <td>63</td>\n",
       "    </tr>\n",
       "    <tr>\n",
       "      <th>2</th>\n",
       "      <td>pizza</td>\n",
       "      <td>49</td>\n",
       "    </tr>\n",
       "    <tr>\n",
       "      <th>3</th>\n",
       "      <td>italian</td>\n",
       "      <td>42</td>\n",
       "    </tr>\n",
       "    <tr>\n",
       "      <th>4</th>\n",
       "      <td>chinese</td>\n",
       "      <td>32</td>\n",
       "    </tr>\n",
       "    <tr>\n",
       "      <th>5</th>\n",
       "      <td>thai</td>\n",
       "      <td>20</td>\n",
       "    </tr>\n",
       "    <tr>\n",
       "      <th>6</th>\n",
       "      <td>japanese</td>\n",
       "      <td>15</td>\n",
       "    </tr>\n",
       "    <tr>\n",
       "      <th>7</th>\n",
       "      <td>sandwich</td>\n",
       "      <td>14</td>\n",
       "    </tr>\n",
       "    <tr>\n",
       "      <th>8</th>\n",
       "      <td>indian</td>\n",
       "      <td>13</td>\n",
       "    </tr>\n",
       "    <tr>\n",
       "      <th>9</th>\n",
       "      <td>sushi</td>\n",
       "      <td>12</td>\n",
       "    </tr>\n",
       "  </tbody>\n",
       "</table>\n",
       "</div>"
      ],
      "text/plain": [
       "  Cuisine Types  Count\n",
       "0      american    102\n",
       "1       mexican     63\n",
       "2         pizza     49\n",
       "3       italian     42\n",
       "4       chinese     32\n",
       "5          thai     20\n",
       "6      japanese     15\n",
       "7      sandwich     14\n",
       "8        indian     13\n",
       "9         sushi     12"
      ]
     },
     "execution_count": 15,
     "metadata": {},
     "output_type": "execute_result"
    }
   ],
   "source": [
    "sqlquery = \"\"\"\n",
    "SELECT value AS \"Cuisine Types\", COUNT(*) as Count \n",
    "FROM nodes_tags \n",
    "JOIN (SELECT DISTINCT id FROM nodes_tags WHERE value=\"restaurant\") nodes_ids\n",
    "ON nodes_tags.id=nodes_ids.id\n",
    "WHERE UPPER(KEY)=\"CUISINE\" \n",
    "GROUP BY 1 \n",
    "ORDER BY COUNT(*) DESC\n",
    "LIMIT 10;\n",
    "\"\"\"\n",
    "df = pd.read_sql_query(sqlquery, connection)\n",
    "df"
   ]
  },
  {
   "cell_type": "markdown",
   "metadata": {},
   "source": [
    "#### Summary / ideas about the dataset"
   ]
  },
  {
   "cell_type": "markdown",
   "metadata": {},
   "source": [
    "While auditing the data, to my surprise data I looked at was in pretty decent shape, other than minor potential issues. One of them is address/street naming convention and some zip codes are incorrect, some of the street names were over-abbreviated and some zip codes were incorrect which brings unnecessary potential complications in data processing. \n",
    "\n",
    "My suggestion is to create a parser or a script, that would automatically convert/translate between over-abbreviated and non-abbreviated naming patterns and a criteria for valid zip codes. There is not a given accepted standard in un/abbreviation convention and people tend to use both. While it's usually not an issue to a casual user, programs that handle the data seem to prefer standardized data (or whatever we tell them to).\n",
    "\n",
    "The main challenge of creating parser script is being able to anticipate the data that users enter than validate it through subset of rules and to facilitate language translation between different regions. It’s an open source platform that includes variety of languages. Each country/region uses several ways that address/location information is being recorded. It would require massive collaboration of people from different countries, cultures, regions to agree upon the convention data should be recorded than formatting it according to several data formats. As mentioned earlier some people can be keen to record the data in one way or another and coming up with single convention would be very tedious task.\n",
    "\n",
    "One way to address it is to continuously run variety of audits to analyze the most common issues encountered and adjust validation rules accordingly. Another one is to cross reference data users enter on OpenStreetMap with address/location data that Postal Offices/Shipping companies use all over the globe, since they are able to handle to handle large amount of languages, schemes, formats validating with their data might be of great use.\n"
   ]
  },
  {
   "cell_type": "raw",
   "metadata": {},
   "source": [
    "References: \n",
    "    * Case Study OpenSteetMap Data [SQL] by udacity\n",
    "    * https://stackoverflow.com/questions/5838605/python-dictwriter-writing-utf-8-encoded-csv-files\n",
    "      (UTF-8/Unicode conversion)\n",
    "    "
   ]
  }
 ],
 "metadata": {
  "kernelspec": {
   "display_name": "Python 3",
   "language": "python",
   "name": "python3"
  },
  "language_info": {
   "codemirror_mode": {
    "name": "ipython",
    "version": 3
   },
   "file_extension": ".py",
   "mimetype": "text/x-python",
   "name": "python",
   "nbconvert_exporter": "python",
   "pygments_lexer": "ipython3",
   "version": "3.7.7"
  }
 },
 "nbformat": 4,
 "nbformat_minor": 4
}
